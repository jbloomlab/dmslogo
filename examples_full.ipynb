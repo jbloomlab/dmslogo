{
 "cells": [
  {
   "cell_type": "markdown",
   "metadata": {},
   "source": [
    "## Examples\n",
    "\n",
    "### Import packages / modules\n",
    "\n",
    "Import  along with the other Python packages used in\n",
    "these examples:"
   ]
  },
  {
   "cell_type": "code",
   "execution_count": 1,
   "metadata": {},
   "outputs": [],
   "source": [
    "import string\n",
    "import random\n",
    "import tempfile\n",
    "import urllib.request\n",
    "\n",
    "import numpy\n",
    "import pandas as pd\n",
    "import matplotlib.pyplot as plt\n",
    "\n",
    "import dmslogo\n",
    "from dmslogo.colorschemes import CBPALETTE"
   ]
  },
  {
   "cell_type": "markdown",
   "metadata": {},
   "source": [
    "Set pandas display options:"
   ]
  },
  {
   "cell_type": "code",
   "execution_count": 2,
   "metadata": {},
   "outputs": [],
   "source": [
    "pd.set_option('display.max_columns', 20)\n",
    "pd.set_option('display.width', 500)"
   ]
  },
  {
   "cell_type": "markdown",
   "metadata": {},
   "source": [
    "# Simple example on toy data\n",
    "\n",
    "## Draw a basic logo\n",
    "\n",
    "Simple plotting can be done using the `dmslogo.logo.draw_logo`\n",
    "function.\n",
    "\n",
    "This function takes in as input a pandas DataFrame that has columns\n",
    "with:\n",
    "\n",
    "> * site in sequential integer numbering\n",
    "\n",
    "> * letter (i.e., amino acid or nucleotide)\n",
    "\n",
    "> * height of letter (can be any positive number)\n",
    "\n",
    "Here make a simple data frame that fits these specs:"
   ]
  },
  {
   "cell_type": "code",
   "execution_count": 3,
   "metadata": {},
   "outputs": [
    {
     "data": {
      "text/html": [
       "<div>\n",
       "<style scoped>\n",
       "    .dataframe tbody tr th:only-of-type {\n",
       "        vertical-align: middle;\n",
       "    }\n",
       "\n",
       "    .dataframe tbody tr th {\n",
       "        vertical-align: top;\n",
       "    }\n",
       "\n",
       "    .dataframe thead th {\n",
       "        text-align: right;\n",
       "    }\n",
       "</style>\n",
       "<table border=\"1\" class=\"dataframe\">\n",
       "  <thead>\n",
       "    <tr style=\"text-align: right;\">\n",
       "      <th></th>\n",
       "      <th>site</th>\n",
       "      <th>letter</th>\n",
       "      <th>height</th>\n",
       "    </tr>\n",
       "  </thead>\n",
       "  <tbody>\n",
       "    <tr>\n",
       "      <th>0</th>\n",
       "      <td>1</td>\n",
       "      <td>Q</td>\n",
       "      <td>1.0</td>\n",
       "    </tr>\n",
       "    <tr>\n",
       "      <th>1</th>\n",
       "      <td>1</td>\n",
       "      <td>I</td>\n",
       "      <td>0.7</td>\n",
       "    </tr>\n",
       "    <tr>\n",
       "      <th>2</th>\n",
       "      <td>2</td>\n",
       "      <td>D</td>\n",
       "      <td>0.1</td>\n",
       "    </tr>\n",
       "    <tr>\n",
       "      <th>3</th>\n",
       "      <td>2</td>\n",
       "      <td>E</td>\n",
       "      <td>1.2</td>\n",
       "    </tr>\n",
       "    <tr>\n",
       "      <th>4</th>\n",
       "      <td>5</td>\n",
       "      <td>S</td>\n",
       "      <td>0.4</td>\n",
       "    </tr>\n",
       "    <tr>\n",
       "      <th>5</th>\n",
       "      <td>5</td>\n",
       "      <td>K</td>\n",
       "      <td>0.4</td>\n",
       "    </tr>\n",
       "  </tbody>\n",
       "</table>\n",
       "</div>"
      ],
      "text/plain": [
       "   site letter  height\n",
       "0     1      Q     1.0\n",
       "1     1      I     0.7\n",
       "2     2      D     0.1\n",
       "3     2      E     1.2\n",
       "4     5      S     0.4\n",
       "5     5      K     0.4"
      ]
     },
     "execution_count": 3,
     "metadata": {},
     "output_type": "execute_result"
    }
   ],
   "source": [
    "data = pd.DataFrame.from_records(\n",
    "        data=   [(    1,      'Q',        1),\n",
    "                 (    1,      'I',      0.7),\n",
    "                 (    2,      'D',      0.1),\n",
    "                 (    2,      'E',      1.2),\n",
    "                 (    5,      'S',      0.4),\n",
    "                 (    5,      'K',      0.4)],\n",
    "        columns=['site', 'letter', 'height'])\n",
    "\n",
    "data"
   ]
  },
  {
   "cell_type": "markdown",
   "metadata": {},
   "source": [
    "Use `dmslogo.logo.draw_logo` to draw the logo plot, passing\n",
    "the names of the columns with each piece of required data:"
   ]
  },
  {
   "cell_type": "code",
   "execution_count": 4,
   "metadata": {},
   "outputs": [
    {
     "data": {
      "image/png": "[encoded data removed]",
      "text/plain": [
       "<Figure size 144x180 with 1 Axes>"
      ]
     },
     "metadata": {
      "needs_background": "light"
     },
     "output_type": "display_data"
    }
   ],
   "source": [
    "fig, ax = dmslogo.draw_logo(data=data,\n",
    "                            x_col='site',\n",
    "                            letter_col='letter',\n",
    "                            letter_height_col='height')"
   ]
  },
  {
   "cell_type": "markdown",
   "metadata": {},
   "source": [
    "Add a title:"
   ]
  },
  {
   "cell_type": "code",
   "execution_count": 5,
   "metadata": {},
   "outputs": [
    {
     "data": {
      "image/png": "[encoded data removed]",
      "text/plain": [
       "<Figure size 144x216 with 1 Axes>"
      ]
     },
     "metadata": {
      "needs_background": "light"
     },
     "output_type": "display_data"
    }
   ],
   "source": [
    "fig, ax = dmslogo.draw_logo(data=data,\n",
    "                            x_col='site',\n",
    "                            letter_col='letter',\n",
    "                            letter_height_col='height',\n",
    "                            title='basic example')"
   ]
  },
  {
   "cell_type": "markdown",
   "metadata": {},
   "source": [
    "Note that the call to `dmslogo.logo.draw_logo` returns\n",
    "matplotlib Figure and Axis instances, which we have called `fig` and\n",
    "`ax`. We can save the figure to a file using the\n",
    "[savefig](https://matplotlib.org/api/_as_gen/matplotlib.pyplot.savefig.html)\n",
    "command of `fig`. Below we show an example of how to do this saving to\n",
    "a temporary file:"
   ]
  },
  {
   "cell_type": "code",
   "execution_count": 6,
   "metadata": {},
   "outputs": [],
   "source": [
    "with tempfile.NamedTemporaryFile(mode='wb', suffix='.png') as f:\n",
    "    fig.savefig(f, dpi=450, bbox_inches='tight')"
   ]
  },
  {
   "cell_type": "markdown",
   "metadata": {},
   "source": [
    "# Drawing without breaks\n",
    "\n",
    "Note how the above plot has a “break” (gap and dashed line) to indicate\n",
    "a break in the sequential numbering in `x_col` between 2 and 5. This\n",
    "is useful as it indicates when we are breaking the sequence when drawing\n",
    "just snippets of a protein. If you do **not** want to indicate breaks in\n",
    "this way, turn off the `addbreaks` option. Now the logo just goes\n",
    "directly from 2 to 5 without indicating a break:"
   ]
  },
  {
   "cell_type": "code",
   "execution_count": 7,
   "metadata": {},
   "outputs": [
    {
     "data": {
      "image/png": "[encoded data removed]",
      "text/plain": [
       "<Figure size 115.2x180 with 1 Axes>"
      ]
     },
     "metadata": {
      "needs_background": "light"
     },
     "output_type": "display_data"
    }
   ],
   "source": [
    "fig, ax = dmslogo.draw_logo(data=data,\n",
    "                            x_col='site',\n",
    "                            letter_col='letter',\n",
    "                            letter_height_col='height',\n",
    "                            addbreaks=False)"
   ]
  },
  {
   "cell_type": "markdown",
   "metadata": {},
   "source": [
    "# Setting letter colors\n",
    "\n",
    "The above plot colored letters using a default amino-acid coloring\n",
    "scheme. You can set a different coloring scheme using `colorscheme`\n",
    "and `missing_color`, or you can set letter colors at a site-specific\n",
    "level by adding a column to `data` that specifies the colors. Here we\n",
    "color letters at site-specific level:"
   ]
  },
  {
   "cell_type": "code",
   "execution_count": 8,
   "metadata": {},
   "outputs": [
    {
     "data": {
      "text/html": [
       "<div>\n",
       "<style scoped>\n",
       "    .dataframe tbody tr th:only-of-type {\n",
       "        vertical-align: middle;\n",
       "    }\n",
       "\n",
       "    .dataframe tbody tr th {\n",
       "        vertical-align: top;\n",
       "    }\n",
       "\n",
       "    .dataframe thead th {\n",
       "        text-align: right;\n",
       "    }\n",
       "</style>\n",
       "<table border=\"1\" class=\"dataframe\">\n",
       "  <thead>\n",
       "    <tr style=\"text-align: right;\">\n",
       "      <th></th>\n",
       "      <th>site</th>\n",
       "      <th>letter</th>\n",
       "      <th>height</th>\n",
       "      <th>color</th>\n",
       "    </tr>\n",
       "  </thead>\n",
       "  <tbody>\n",
       "    <tr>\n",
       "      <th>0</th>\n",
       "      <td>1</td>\n",
       "      <td>Q</td>\n",
       "      <td>1.0</td>\n",
       "      <td>red</td>\n",
       "    </tr>\n",
       "    <tr>\n",
       "      <th>1</th>\n",
       "      <td>1</td>\n",
       "      <td>I</td>\n",
       "      <td>0.7</td>\n",
       "      <td>gray</td>\n",
       "    </tr>\n",
       "    <tr>\n",
       "      <th>2</th>\n",
       "      <td>2</td>\n",
       "      <td>D</td>\n",
       "      <td>0.1</td>\n",
       "      <td>gray</td>\n",
       "    </tr>\n",
       "    <tr>\n",
       "      <th>3</th>\n",
       "      <td>2</td>\n",
       "      <td>E</td>\n",
       "      <td>1.2</td>\n",
       "      <td>gray</td>\n",
       "    </tr>\n",
       "    <tr>\n",
       "      <th>4</th>\n",
       "      <td>5</td>\n",
       "      <td>S</td>\n",
       "      <td>0.4</td>\n",
       "      <td>red</td>\n",
       "    </tr>\n",
       "    <tr>\n",
       "      <th>5</th>\n",
       "      <td>5</td>\n",
       "      <td>K</td>\n",
       "      <td>0.4</td>\n",
       "      <td>gray</td>\n",
       "    </tr>\n",
       "  </tbody>\n",
       "</table>\n",
       "</div>"
      ],
      "text/plain": [
       "   site letter  height color\n",
       "0     1      Q     1.0   red\n",
       "1     1      I     0.7  gray\n",
       "2     2      D     0.1  gray\n",
       "3     2      E     1.2  gray\n",
       "4     5      S     0.4   red\n",
       "5     5      K     0.4  gray"
      ]
     },
     "execution_count": 8,
     "metadata": {},
     "output_type": "execute_result"
    }
   ],
   "source": [
    "data['color'] = ['red', 'gray', 'gray', 'gray', 'red', 'gray']\n",
    "data"
   ]
  },
  {
   "cell_type": "markdown",
   "metadata": {},
   "source": [
    "Now plot using `color_col` to set the colors:"
   ]
  },
  {
   "cell_type": "code",
   "execution_count": 9,
   "metadata": {},
   "outputs": [
    {
     "data": {
      "image/png": "[encoded data removed]",
      "text/plain": [
       "<Figure size 144x180 with 1 Axes>"
      ]
     },
     "metadata": {
      "needs_background": "light"
     },
     "output_type": "display_data"
    }
   ],
   "source": [
    "fig, ax = dmslogo.draw_logo(data=data,\n",
    "                            x_col='site',\n",
    "                            letter_col='letter',\n",
    "                            letter_height_col='height',\n",
    "                            color_col='color')"
   ]
  },
  {
   "cell_type": "markdown",
   "metadata": {},
   "source": [
    "# Labeling x-axis ticks\n",
    "\n",
    "Sometimes we want to label sites with something other than the\n",
    "sequential integer numbers. We can do this by adding a column for the\n",
    "xtick labels to `data`:"
   ]
  },
  {
   "cell_type": "code",
   "execution_count": 10,
   "metadata": {},
   "outputs": [
    {
     "data": {
      "text/html": [
       "<div>\n",
       "<style scoped>\n",
       "    .dataframe tbody tr th:only-of-type {\n",
       "        vertical-align: middle;\n",
       "    }\n",
       "\n",
       "    .dataframe tbody tr th {\n",
       "        vertical-align: top;\n",
       "    }\n",
       "\n",
       "    .dataframe thead th {\n",
       "        text-align: right;\n",
       "    }\n",
       "</style>\n",
       "<table border=\"1\" class=\"dataframe\">\n",
       "  <thead>\n",
       "    <tr style=\"text-align: right;\">\n",
       "      <th></th>\n",
       "      <th>site</th>\n",
       "      <th>letter</th>\n",
       "      <th>height</th>\n",
       "      <th>color</th>\n",
       "      <th>site_label</th>\n",
       "    </tr>\n",
       "  </thead>\n",
       "  <tbody>\n",
       "    <tr>\n",
       "      <th>0</th>\n",
       "      <td>1</td>\n",
       "      <td>Q</td>\n",
       "      <td>1.0</td>\n",
       "      <td>red</td>\n",
       "      <td>D1</td>\n",
       "    </tr>\n",
       "    <tr>\n",
       "      <th>1</th>\n",
       "      <td>1</td>\n",
       "      <td>I</td>\n",
       "      <td>0.7</td>\n",
       "      <td>gray</td>\n",
       "      <td>D1</td>\n",
       "    </tr>\n",
       "    <tr>\n",
       "      <th>2</th>\n",
       "      <td>2</td>\n",
       "      <td>D</td>\n",
       "      <td>0.1</td>\n",
       "      <td>gray</td>\n",
       "      <td>A2</td>\n",
       "    </tr>\n",
       "    <tr>\n",
       "      <th>3</th>\n",
       "      <td>2</td>\n",
       "      <td>E</td>\n",
       "      <td>1.2</td>\n",
       "      <td>gray</td>\n",
       "      <td>A2</td>\n",
       "    </tr>\n",
       "    <tr>\n",
       "      <th>4</th>\n",
       "      <td>5</td>\n",
       "      <td>S</td>\n",
       "      <td>0.4</td>\n",
       "      <td>red</td>\n",
       "      <td>F5</td>\n",
       "    </tr>\n",
       "    <tr>\n",
       "      <th>5</th>\n",
       "      <td>5</td>\n",
       "      <td>K</td>\n",
       "      <td>0.4</td>\n",
       "      <td>gray</td>\n",
       "      <td>F5</td>\n",
       "    </tr>\n",
       "  </tbody>\n",
       "</table>\n",
       "</div>"
      ],
      "text/plain": [
       "   site letter  height color site_label\n",
       "0     1      Q     1.0   red         D1\n",
       "1     1      I     0.7  gray         D1\n",
       "2     2      D     0.1  gray         A2\n",
       "3     2      E     1.2  gray         A2\n",
       "4     5      S     0.4   red         F5\n",
       "5     5      K     0.4  gray         F5"
      ]
     },
     "execution_count": 10,
     "metadata": {},
     "output_type": "execute_result"
    }
   ],
   "source": [
    "data['site_label'] = ['D1', 'D1', 'A2', 'A2', 'F5', 'F5']\n",
    "data"
   ]
  },
  {
   "cell_type": "markdown",
   "metadata": {},
   "source": [
    "Now use `xtick_col` to set the xticks:"
   ]
  },
  {
   "cell_type": "code",
   "execution_count": 11,
   "metadata": {},
   "outputs": [
    {
     "data": {
      "image/png": "[encoded data removed]",
      "text/plain": [
       "<Figure size 144x180 with 1 Axes>"
      ]
     },
     "metadata": {
      "needs_background": "light"
     },
     "output_type": "display_data"
    }
   ],
   "source": [
    "fig, ax = dmslogo.draw_logo(data=data,\n",
    "                            x_col='site',\n",
    "                            letter_col='letter',\n",
    "                            letter_height_col='height',\n",
    "                            color_col='color',\n",
    "                            xtick_col='site_label')"
   ]
  },
  {
   "cell_type": "markdown",
   "metadata": {},
   "source": [
    "# Adjusting size, axis labels, axes\n",
    "\n",
    "We can do additional formatting by scaling the width (`widthscale`),\n",
    "the height (`heightscale`), the axis font (`axisfontscale`), the\n",
    "x-axis (`xlabel`) and y-axis (`ylabel`) labels, and removing the\n",
    "axes altogether (`hide_axis`).\n",
    "\n",
    "First, we make a plot where we adjust the size, change the y-axis label,\n",
    "and get rid of the x-axis label:"
   ]
  },
  {
   "cell_type": "code",
   "execution_count": 12,
   "metadata": {},
   "outputs": [
    {
     "data": {
      "image/png": "[encoded data removed]",
      "text/plain": [
       "<Figure size 144x360 with 1 Axes>"
      ]
     },
     "metadata": {
      "needs_background": "light"
     },
     "output_type": "display_data"
    }
   ],
   "source": [
    "fig, ax = dmslogo.draw_logo(data=data,\n",
    "                            x_col='site',\n",
    "                            letter_col='letter',\n",
    "                            letter_height_col='height',\n",
    "                            color_col='color',\n",
    "                            xtick_col='site_label',\n",
    "                            xlabel='',\n",
    "                            ylabel='immune selection',\n",
    "                            heightscale=2,\n",
    "                            axisfontscale=1.5\n",
    "                            )"
   ]
  },
  {
   "cell_type": "markdown",
   "metadata": {},
   "source": [
    "Now we make a plot where we hide the axes and their labels altogether:"
   ]
  },
  {
   "cell_type": "code",
   "execution_count": 13,
   "metadata": {},
   "outputs": [
    {
     "data": {
      "image/png": "[encoded data removed]",
      "text/plain": [
       "<Figure size 115.2x144 with 1 Axes>"
      ]
     },
     "metadata": {
      "needs_background": "light"
     },
     "output_type": "display_data"
    }
   ],
   "source": [
    "fig, ax = dmslogo.draw_logo(data=data,\n",
    "                            x_col='site',\n",
    "                            letter_col='letter',\n",
    "                            letter_height_col='height',\n",
    "                            color_col='color',\n",
    "                            xtick_col='site_label',\n",
    "                            hide_axis=True\n",
    "                            )"
   ]
  },
  {
   "cell_type": "markdown",
   "metadata": {},
   "source": [
    "# Multiple logos in one figure\n",
    "\n",
    "So far we have made individual plots on newly generate figures created\n",
    "by `dmslogo.logo.draw_logo`.\n",
    "\n",
    "But we can also create a multi-axis figure, and then draw several logos\n",
    "onto that. The easiest way to do this is with the\n",
    "`dmslogo.facet.facet_plot` command described below. But we can\n",
    "also do it using matplotlib subplots as here:"
   ]
  },
  {
   "cell_type": "code",
   "execution_count": 14,
   "metadata": {},
   "outputs": [
    {
     "data": {
      "image/png": "[encoded data removed]",
      "text/plain": [
       "<Figure size 288x360 with 2 Axes>"
      ]
     },
     "metadata": {
      "needs_background": "light"
     },
     "output_type": "display_data"
    }
   ],
   "source": [
    "# make figure with two subplots: two rows, one column\n",
    "fig, axes = plt.subplots(2, 1)\n",
    "fig.subplots_adjust(hspace=0.3) # add more vertical space for axis titles\n",
    "fig.set_size_inches(4, 5)\n",
    "\n",
    "# draw top plot, no x-axis ticks or label, default coloring\n",
    "_ = dmslogo.draw_logo(data.assign(no_ticks=''),\n",
    "                      x_col='site',\n",
    "                      letter_col='letter',\n",
    "                      letter_height_col='height',\n",
    "                      ax=axes[0],\n",
    "                      xlabel='',\n",
    "                      ylabel='',\n",
    "                      xtick_col='no_ticks',\n",
    "                      title='colored by amino acid')\n",
    "\n",
    "# draw bottom plot, color as specified in `data`\n",
    "_ = dmslogo.draw_logo(data,\n",
    "                      x_col='site',\n",
    "                      letter_col='letter',\n",
    "                      letter_height_col='height',\n",
    "                      color_col='color',\n",
    "                      ax=axes[1],\n",
    "                      ylabel='',\n",
    "                      title='user-specified colors')"
   ]
  },
  {
   "cell_type": "markdown",
   "metadata": {},
   "source": [
    "Real HIV data from Dingens et al\n",
    "\n",
    "In [An Antigenic Atlas of HIV-1 Escape from Broadly Neutralizing\n",
    "Antibodies Distinguishes Functional and Structural\n",
    "Epitopes](https://doi.org/10.1016/j.immuni.2018.12.017) (Dingens et\n",
    "al, 2019), there are plots of immune selection on HIV envelope (Env)\n",
    "from anti-HIV antibodies at just a subset of “strongly selected” sites\n",
    "for each antibody.\n",
    "\n",
    "Here we use `dmslogo` to re-create one of those plots (the one in\n",
    "Figure 3D,E) showing antibodies *PG9* and *PGT145*.\n",
    "\n",
    "# Download data to plot\n",
    "\n",
    "Download the data from the paper’s [GitHub\n",
    "repo](https://github.com/jbloomlab/EnvsAntigenicAtlas/) giving the\n",
    "immune selection (as [fraction surviving above\n",
    "average](https://jbloomlab.github.io/dms_tools2/fracsurvive.html))\n",
    "for these two antibodies, and read the data into a DataFrame:"
   ]
  },
  {
   "cell_type": "code",
   "execution_count": 15,
   "metadata": {},
   "outputs": [],
   "source": [
    "antibodies = ['PG9', 'PGT145']\n",
    "\n",
    "data_hiv = []\n",
    "for antibody in antibodies:\n",
    "    datafile = ('https://raw.githubusercontent.com/jbloomlab/EnvsAntigenicAtlas/master/results/'\n",
    "                f\"fracsurviveaboveavg/concavg_wtDNA_ctrl/summary_{antibody}-medianmutfracsurvive.csv\")\n",
    "    with urllib.request.urlopen(datafile) as f:\n",
    "        data_hiv.append(pd.read_csv(f).assign(antibody=antibody))\n",
    "\n",
    "data_hiv = pd.concat(data_hiv)"
   ]
  },
  {
   "cell_type": "markdown",
   "metadata": {},
   "source": [
    "Here are the first few lines of the data frame. For each mutation it\n",
    "gives the immune selection (*mutfracsurvive*):"
   ]
  },
  {
   "cell_type": "code",
   "execution_count": 16,
   "metadata": {},
   "outputs": [
    {
     "data": {
      "text/html": [
       "<div>\n",
       "<style scoped>\n",
       "    .dataframe tbody tr th:only-of-type {\n",
       "        vertical-align: middle;\n",
       "    }\n",
       "\n",
       "    .dataframe tbody tr th {\n",
       "        vertical-align: top;\n",
       "    }\n",
       "\n",
       "    .dataframe thead th {\n",
       "        text-align: right;\n",
       "    }\n",
       "</style>\n",
       "<table border=\"1\" class=\"dataframe\">\n",
       "  <thead>\n",
       "    <tr style=\"text-align: right;\">\n",
       "      <th></th>\n",
       "      <th>site</th>\n",
       "      <th>wildtype</th>\n",
       "      <th>mutation</th>\n",
       "      <th>mutfracsurvive</th>\n",
       "      <th>antibody</th>\n",
       "    </tr>\n",
       "  </thead>\n",
       "  <tbody>\n",
       "    <tr>\n",
       "      <th>0</th>\n",
       "      <td>160</td>\n",
       "      <td>N</td>\n",
       "      <td>I</td>\n",
       "      <td>0.256342</td>\n",
       "      <td>PG9</td>\n",
       "    </tr>\n",
       "    <tr>\n",
       "      <th>1</th>\n",
       "      <td>160</td>\n",
       "      <td>N</td>\n",
       "      <td>L</td>\n",
       "      <td>0.207440</td>\n",
       "      <td>PG9</td>\n",
       "    </tr>\n",
       "    <tr>\n",
       "      <th>2</th>\n",
       "      <td>160</td>\n",
       "      <td>N</td>\n",
       "      <td>R</td>\n",
       "      <td>0.184067</td>\n",
       "      <td>PG9</td>\n",
       "    </tr>\n",
       "    <tr>\n",
       "      <th>3</th>\n",
       "      <td>171</td>\n",
       "      <td>K</td>\n",
       "      <td>E</td>\n",
       "      <td>0.176118</td>\n",
       "      <td>PG9</td>\n",
       "    </tr>\n",
       "    <tr>\n",
       "      <th>4</th>\n",
       "      <td>428</td>\n",
       "      <td>Q</td>\n",
       "      <td>Y</td>\n",
       "      <td>0.150981</td>\n",
       "      <td>PG9</td>\n",
       "    </tr>\n",
       "  </tbody>\n",
       "</table>\n",
       "</div>"
      ],
      "text/plain": [
       "  site wildtype mutation  mutfracsurvive antibody\n",
       "0  160        N        I        0.256342      PG9\n",
       "1  160        N        L        0.207440      PG9\n",
       "2  160        N        R        0.184067      PG9\n",
       "3  171        K        E        0.176118      PG9\n",
       "4  428        Q        Y        0.150981      PG9"
      ]
     },
     "execution_count": 16,
     "metadata": {},
     "output_type": "execute_result"
    }
   ],
   "source": [
    "data_hiv.head(n=5)"
   ]
  },
  {
   "cell_type": "markdown",
   "metadata": {},
   "source": [
    "The sites in this data frame are in the [HXB2 numbering\n",
    "scheme](https://www.hiv.lanl.gov/content/sequence/HIV/REVIEWS/HXB2.html),\n",
    "which is **not** the same as sequential integer numbering of the actual\n",
    "BG505 Env for which the immune selection was measured. So for our\n",
    "plotting, we also need to create a column (which we will call `isite`)\n",
    "that numbers the sites a sequential numbering. A file that converts\n",
    "between HXB2 and and BG505 numbering is part of the paper’s [GitHub\n",
    "repo](https://github.com/jbloomlab/EnvsAntigenicAtlas/). We download\n",
    "the data in that file and add it to our data frame:"
   ]
  },
  {
   "cell_type": "code",
   "execution_count": 17,
   "metadata": {},
   "outputs": [],
   "source": [
    "numberfile = ('https://raw.githubusercontent.com/jbloomlab/EnvsAntigenicAtlas/'\n",
    "              'master/results/HXB2_numbering/BG505_to_HXB2.csv')\n",
    "with urllib.request.urlopen(numberfile) as f:\n",
    "    data_hiv = (pd.read_csv(f)\n",
    "                .rename(columns={'original':'isite', 'new':'site'})\n",
    "                [['site', 'isite']]\n",
    "                .merge(data_hiv, on='site', validate='one_to_many')\n",
    "                )"
   ]
  },
  {
   "cell_type": "markdown",
   "metadata": {},
   "source": [
    "Now see how this data frame also has the `isite` column which has\n",
    "sequential integer numbering of the sequence:"
   ]
  },
  {
   "cell_type": "code",
   "execution_count": 18,
   "metadata": {},
   "outputs": [
    {
     "data": {
      "text/html": [
       "<div>\n",
       "<style scoped>\n",
       "    .dataframe tbody tr th:only-of-type {\n",
       "        vertical-align: middle;\n",
       "    }\n",
       "\n",
       "    .dataframe tbody tr th {\n",
       "        vertical-align: top;\n",
       "    }\n",
       "\n",
       "    .dataframe thead th {\n",
       "        text-align: right;\n",
       "    }\n",
       "</style>\n",
       "<table border=\"1\" class=\"dataframe\">\n",
       "  <thead>\n",
       "    <tr style=\"text-align: right;\">\n",
       "      <th></th>\n",
       "      <th>site</th>\n",
       "      <th>isite</th>\n",
       "      <th>wildtype</th>\n",
       "      <th>mutation</th>\n",
       "      <th>mutfracsurvive</th>\n",
       "      <th>antibody</th>\n",
       "    </tr>\n",
       "  </thead>\n",
       "  <tbody>\n",
       "    <tr>\n",
       "      <th>0</th>\n",
       "      <td>31</td>\n",
       "      <td>30</td>\n",
       "      <td>A</td>\n",
       "      <td>Y</td>\n",
       "      <td>0.030824</td>\n",
       "      <td>PG9</td>\n",
       "    </tr>\n",
       "    <tr>\n",
       "      <th>1</th>\n",
       "      <td>31</td>\n",
       "      <td>30</td>\n",
       "      <td>A</td>\n",
       "      <td>K</td>\n",
       "      <td>0.006860</td>\n",
       "      <td>PG9</td>\n",
       "    </tr>\n",
       "    <tr>\n",
       "      <th>2</th>\n",
       "      <td>31</td>\n",
       "      <td>30</td>\n",
       "      <td>A</td>\n",
       "      <td>D</td>\n",
       "      <td>0.006774</td>\n",
       "      <td>PG9</td>\n",
       "    </tr>\n",
       "    <tr>\n",
       "      <th>3</th>\n",
       "      <td>31</td>\n",
       "      <td>30</td>\n",
       "      <td>A</td>\n",
       "      <td>S</td>\n",
       "      <td>0.004407</td>\n",
       "      <td>PG9</td>\n",
       "    </tr>\n",
       "    <tr>\n",
       "      <th>4</th>\n",
       "      <td>31</td>\n",
       "      <td>30</td>\n",
       "      <td>A</td>\n",
       "      <td>R</td>\n",
       "      <td>0.003501</td>\n",
       "      <td>PG9</td>\n",
       "    </tr>\n",
       "  </tbody>\n",
       "</table>\n",
       "</div>"
      ],
      "text/plain": [
       "  site  isite wildtype mutation  mutfracsurvive antibody\n",
       "0   31     30        A        Y        0.030824      PG9\n",
       "1   31     30        A        K        0.006860      PG9\n",
       "2   31     30        A        D        0.006774      PG9\n",
       "3   31     30        A        S        0.004407      PG9\n",
       "4   31     30        A        R        0.003501      PG9"
      ]
     },
     "execution_count": 18,
     "metadata": {},
     "output_type": "execute_result"
    }
   ],
   "source": [
    "data_hiv.head(n=5)"
   ]
  },
  {
   "cell_type": "markdown",
   "metadata": {},
   "source": [
    "We add a column (`site_label`) that gives the site labeled with the\n",
    "wildtype identity that we can use for axis ticks. We also indicate which\n",
    "sites to show (column `show_site`) in our logoplot snippet (these are\n",
    "just the same ones in Figure 3 of the [Dingens et al\n",
    "(2019)](https://doi.org/10.1016/j.immuni.2018.12.017) paper):"
   ]
  },
  {
   "cell_type": "code",
   "execution_count": null,
   "metadata": {},
   "outputs": [],
   "source": [
    "# same sites in Figure 3D,E of Dingens et al (2019)\n",
    "sites_to_show = map(str, list(range(119, 125)) +\n",
    "                         [127] +\n",
    "                         list(range(156, 174)) +\n",
    "                         list(range(199, 205)) +\n",
    "                         list(range(312, 316))\n",
    "                         )\n",
    "\n",
    "data_hiv = (\n",
    "    data_hiv\n",
    "    .assign(site_label=lambda x: x['wildtype'] + x['site'],\n",
    "            show_site=lambda x: x['site'].isin(sites_to_show),\n",
    "            )\n",
    "    )"
   ]
  },
  {
   "cell_type": "markdown",
   "metadata": {},
   "source": [
    "See how the data frame now has the `site_label` and `show_site`\n",
    "columns:"
   ]
  },
  {
   "cell_type": "code",
   "execution_count": null,
   "metadata": {},
   "outputs": [
    {
     "data": {
      "text/html": [
       "<div>\n",
       "<style scoped>\n",
       "    .dataframe tbody tr th:only-of-type {\n",
       "        vertical-align: middle;\n",
       "    }\n",
       "\n",
       "    .dataframe tbody tr th {\n",
       "        vertical-align: top;\n",
       "    }\n",
       "\n",
       "    .dataframe thead th {\n",
       "        text-align: right;\n",
       "    }\n",
       "</style>\n",
       "<table border=\"1\" class=\"dataframe\">\n",
       "  <thead>\n",
       "    <tr style=\"text-align: right;\">\n",
       "      <th></th>\n",
       "      <th>site</th>\n",
       "      <th>isite</th>\n",
       "      <th>wildtype</th>\n",
       "      <th>mutation</th>\n",
       "      <th>mutfracsurvive</th>\n",
       "      <th>antibody</th>\n",
       "      <th>site_label</th>\n",
       "      <th>show_site</th>\n",
       "    </tr>\n",
       "  </thead>\n",
       "  <tbody>\n",
       "    <tr>\n",
       "      <th>0</th>\n",
       "      <td>31</td>\n",
       "      <td>30</td>\n",
       "      <td>A</td>\n",
       "      <td>Y</td>\n",
       "      <td>0.030824</td>\n",
       "      <td>PG9</td>\n",
       "      <td>A31</td>\n",
       "      <td>False</td>\n",
       "    </tr>\n",
       "    <tr>\n",
       "      <th>1</th>\n",
       "      <td>31</td>\n",
       "      <td>30</td>\n",
       "      <td>A</td>\n",
       "      <td>K</td>\n",
       "      <td>0.006860</td>\n",
       "      <td>PG9</td>\n",
       "      <td>A31</td>\n",
       "      <td>False</td>\n",
       "    </tr>\n",
       "    <tr>\n",
       "      <th>2</th>\n",
       "      <td>31</td>\n",
       "      <td>30</td>\n",
       "      <td>A</td>\n",
       "      <td>D</td>\n",
       "      <td>0.006774</td>\n",
       "      <td>PG9</td>\n",
       "      <td>A31</td>\n",
       "      <td>False</td>\n",
       "    </tr>\n",
       "    <tr>\n",
       "      <th>3</th>\n",
       "      <td>31</td>\n",
       "      <td>30</td>\n",
       "      <td>A</td>\n",
       "      <td>S</td>\n",
       "      <td>0.004407</td>\n",
       "      <td>PG9</td>\n",
       "      <td>A31</td>\n",
       "      <td>False</td>\n",
       "    </tr>\n",
       "    <tr>\n",
       "      <th>4</th>\n",
       "      <td>31</td>\n",
       "      <td>30</td>\n",
       "      <td>A</td>\n",
       "      <td>R</td>\n",
       "      <td>0.003501</td>\n",
       "      <td>PG9</td>\n",
       "      <td>A31</td>\n",
       "      <td>False</td>\n",
       "    </tr>\n",
       "  </tbody>\n",
       "</table>\n",
       "</div>"
      ],
      "text/plain": [
       "  site  isite wildtype mutation  mutfracsurvive antibody site_label  show_site\n",
       "0   31     30        A        Y        0.030824      PG9        A31      False\n",
       "1   31     30        A        K        0.006860      PG9        A31      False\n",
       "2   31     30        A        D        0.006774      PG9        A31      False\n",
       "3   31     30        A        S        0.004407      PG9        A31      False\n",
       "4   31     30        A        R        0.003501      PG9        A31      False"
      ]
     },
     "execution_count": 20,
     "metadata": {},
     "output_type": "execute_result"
    }
   ],
   "source": [
    "data_hiv.head(n=5)"
   ]
  },
  {
   "cell_type": "markdown",
   "metadata": {},
   "source": [
    "# Draw a logo plot\n",
    "\n",
    "Now we make logo plots of the sites that we have selected to show, here\n",
    "just for the *PG9* antibody. Note how we query `data_hiv` for only the\n",
    "antibody (*PG9*) and the sites of interest (`show_site` is `True`):"
   ]
  },
  {
   "cell_type": "code",
   "execution_count": null,
   "metadata": {},
   "outputs": [
    {
     "data": {
      "image/png": "[encoded data removed]",
      "text/plain": [
       "<Figure size 1152x216 with 1 Axes>"
      ]
     },
     "metadata": {
      "needs_background": "light"
     },
     "output_type": "display_data"
    }
   ],
   "source": [
    "fig, ax = dmslogo.draw_logo(data_hiv.query('antibody == \"PG9\"').query('show_site'),\n",
    "                            x_col='isite',\n",
    "                            letter_col='mutation',\n",
    "                            letter_height_col='mutfracsurvive',\n",
    "                            xtick_col='site_label',\n",
    "                            title='PG9')"
   ]
  },
  {
   "cell_type": "markdown",
   "metadata": {},
   "source": [
    "# Draw site-level line plots\n",
    "\n",
    "The logo plot above shows selection at a subset of sites. But we might\n",
    "also want to summarize the selection across all sites (as is done in\n",
    "Figure 2 of [Dingens et al\n",
    "(2019)](https://doi.org/10.1016/j.immuni.2018.12.017)).\n",
    "\n",
    "An easy way to do this is to create a summary statistic at each site.\n",
    "Here we compute the average\n",
    "[fracsurvive](https://jbloomlab.github.io/dms_tools2/dms_tools2.fracsurvive.html)\n",
    "at each site across all mutations, and add that to our data frame:"
   ]
  },
  {
   "cell_type": "code",
   "execution_count": null,
   "metadata": {},
   "outputs": [],
   "source": [
    "data_hiv = (\n",
    "    data_hiv\n",
    "    .query('mutation != wildtype') # only care about mutations; get rid of wildtype values\n",
    "    .assign(avgfracsurvive=lambda x: x.groupby(['antibody', 'site'])\n",
    "                                        ['mutfracsurvive']\n",
    "                                        .transform('mean')\n",
    "            )\n",
    "    )"
   ]
  },
  {
   "cell_type": "markdown",
   "metadata": {},
   "source": [
    "Now the data frame has a column (`avgfracsurvive`) giving the average\n",
    "fraction surviving at each site:"
   ]
  },
  {
   "cell_type": "code",
   "execution_count": null,
   "metadata": {},
   "outputs": [
    {
     "data": {
      "text/html": [
       "<div>\n",
       "<style scoped>\n",
       "    .dataframe tbody tr th:only-of-type {\n",
       "        vertical-align: middle;\n",
       "    }\n",
       "\n",
       "    .dataframe tbody tr th {\n",
       "        vertical-align: top;\n",
       "    }\n",
       "\n",
       "    .dataframe thead th {\n",
       "        text-align: right;\n",
       "    }\n",
       "</style>\n",
       "<table border=\"1\" class=\"dataframe\">\n",
       "  <thead>\n",
       "    <tr style=\"text-align: right;\">\n",
       "      <th></th>\n",
       "      <th>site</th>\n",
       "      <th>isite</th>\n",
       "      <th>wildtype</th>\n",
       "      <th>mutation</th>\n",
       "      <th>mutfracsurvive</th>\n",
       "      <th>antibody</th>\n",
       "      <th>site_label</th>\n",
       "      <th>show_site</th>\n",
       "      <th>avgfracsurvive</th>\n",
       "    </tr>\n",
       "  </thead>\n",
       "  <tbody>\n",
       "    <tr>\n",
       "      <th>0</th>\n",
       "      <td>31</td>\n",
       "      <td>30</td>\n",
       "      <td>A</td>\n",
       "      <td>Y</td>\n",
       "      <td>0.030824</td>\n",
       "      <td>PG9</td>\n",
       "      <td>A31</td>\n",
       "      <td>False</td>\n",
       "      <td>0.00329</td>\n",
       "    </tr>\n",
       "    <tr>\n",
       "      <th>1</th>\n",
       "      <td>31</td>\n",
       "      <td>30</td>\n",
       "      <td>A</td>\n",
       "      <td>K</td>\n",
       "      <td>0.006860</td>\n",
       "      <td>PG9</td>\n",
       "      <td>A31</td>\n",
       "      <td>False</td>\n",
       "      <td>0.00329</td>\n",
       "    </tr>\n",
       "    <tr>\n",
       "      <th>2</th>\n",
       "      <td>31</td>\n",
       "      <td>30</td>\n",
       "      <td>A</td>\n",
       "      <td>D</td>\n",
       "      <td>0.006774</td>\n",
       "      <td>PG9</td>\n",
       "      <td>A31</td>\n",
       "      <td>False</td>\n",
       "      <td>0.00329</td>\n",
       "    </tr>\n",
       "    <tr>\n",
       "      <th>3</th>\n",
       "      <td>31</td>\n",
       "      <td>30</td>\n",
       "      <td>A</td>\n",
       "      <td>S</td>\n",
       "      <td>0.004407</td>\n",
       "      <td>PG9</td>\n",
       "      <td>A31</td>\n",
       "      <td>False</td>\n",
       "      <td>0.00329</td>\n",
       "    </tr>\n",
       "    <tr>\n",
       "      <th>4</th>\n",
       "      <td>31</td>\n",
       "      <td>30</td>\n",
       "      <td>A</td>\n",
       "      <td>R</td>\n",
       "      <td>0.003501</td>\n",
       "      <td>PG9</td>\n",
       "      <td>A31</td>\n",
       "      <td>False</td>\n",
       "      <td>0.00329</td>\n",
       "    </tr>\n",
       "  </tbody>\n",
       "</table>\n",
       "</div>"
      ],
      "text/plain": [
       "  site  isite wildtype mutation  mutfracsurvive antibody site_label  show_site  avgfracsurvive\n",
       "0   31     30        A        Y        0.030824      PG9        A31      False         0.00329\n",
       "1   31     30        A        K        0.006860      PG9        A31      False         0.00329\n",
       "2   31     30        A        D        0.006774      PG9        A31      False         0.00329\n",
       "3   31     30        A        S        0.004407      PG9        A31      False         0.00329\n",
       "4   31     30        A        R        0.003501      PG9        A31      False         0.00329"
      ]
     },
     "execution_count": 23,
     "metadata": {},
     "output_type": "execute_result"
    }
   ],
   "source": [
    "data_hiv.head(n=5)"
   ]
  },
  {
   "cell_type": "markdown",
   "metadata": {},
   "source": [
    "Now we use the `dmslogo.line.draw_line` function to draw the line plot for\n",
    "antibody *PG9*. Note how we provide our new `avgfracsurvive` column as\n",
    "`height_col`. We also provide our previously defined `show_site`\n",
    "column (which indicates which sites were shown in the logo plot) as the\n",
    "`show_col`, so that the line plot has the sites shown in the above\n",
    "logo plot underlined in orange:"
   ]
  },
  {
   "cell_type": "code",
   "execution_count": null,
   "metadata": {},
   "outputs": [
    {
     "data": {
      "image/png": "[encoded data removed]",
      "text/plain": [
       "<Figure size 774.072x216 with 1 Axes>"
      ]
     },
     "metadata": {
      "needs_background": "light"
     },
     "output_type": "display_data"
    }
   ],
   "source": [
    "fig, ax = dmslogo.draw_line(data_hiv.query('antibody == \"PG9\"'),\n",
    "                            x_col='isite',\n",
    "                            height_col='avgfracsurvive',\n",
    "                            xtick_col='site',\n",
    "                            show_col='show_site',\n",
    "                            title='PG9',\n",
    "                            widthscale=2)"
   ]
  },
  {
   "cell_type": "markdown",
   "metadata": {},
   "source": [
    "# Combining site-level line and mutation-level logo plots\n",
    "\n",
    "Of course, a line plot isn’t that hard to make, but the advantage of\n",
    "doing this using the approach above is that we can combine\n",
    "`dmslogo.line.draw_line` and `dmslogo.logo.draw_logo` to create a single\n",
    "figure that shows the site-selection in a line plot and the selected\n",
    "sites as logo plots.\n",
    "\n",
    "The easiest way to do this using the\n",
    "`dmslogo.facet.facet_plot` command described below. But first\n",
    "here we do it using matplotlib subplots. Note how the resulting\n",
    "plot combines the line and logo plots, with the line plot using the orange\n",
    "underline to indicate which sites are zoomed in the logo plot:"
   ]
  },
  {
   "cell_type": "code",
   "execution_count": null,
   "metadata": {},
   "outputs": [
    {
     "data": {
      "image/png": "[encoded data removed]",
      "text/plain": [
       "<Figure size 1728x216 with 2 Axes>"
      ]
     },
     "metadata": {
      "needs_background": "light"
     },
     "output_type": "display_data"
    }
   ],
   "source": [
    "fig, axes = plt.subplots(1, 2,\n",
    "                         gridspec_kw={'width_ratios':[1, 1.5]})\n",
    "fig.subplots_adjust(wspace=0.12)\n",
    "fig.set_size_inches(24, 3)\n",
    "\n",
    "_ = dmslogo.draw_line(data_hiv.query('antibody == \"PG9\"'),\n",
    "                      x_col='isite',\n",
    "                      height_col='avgfracsurvive',\n",
    "                      xtick_col='site',\n",
    "                      show_col='show_site',\n",
    "                      ax=axes[0])\n",
    "\n",
    "_ = dmslogo.draw_logo(data_hiv.query('antibody == \"PG9\"').query('show_site'),\n",
    "                      x_col='isite',\n",
    "                      letter_col='mutation',\n",
    "                      letter_height_col='mutfracsurvive',\n",
    "                      ax=axes[1],\n",
    "                      xtick_col='site_label')"
   ]
  },
  {
   "cell_type": "markdown",
   "metadata": {},
   "source": [
    "Faceting line and logo plots together\n",
    "\n",
    "The easiest way to facet line and logo plots together is using\n",
    "`dmslogo.facet.facet_plot`.\n",
    "\n",
    "The cell below shows how this is done. You pass the data to this\n",
    "function, as well any columns and rows we would like to facet, the\n",
    "`x_col` and `show_col` arguments shared between the line and logo\n",
    "plots, and additional keyword arguments for\n",
    "`dmslogo.logo.draw_logo` and\n",
    "`dmslogo.line.draw_line`:"
   ]
  },
  {
   "cell_type": "code",
   "execution_count": null,
   "metadata": {},
   "outputs": [],
   "source": [
    "fig, axes = dmslogo.facet_plot(\n",
    "                    data_hiv,\n",
    "                    gridrow_col='antibody',\n",
    "                    x_col='isite',\n",
    "                    show_col='show_site',\n",
    "                    draw_line_kwargs=dict(height_col='avgfracsurvive',\n",
    "                                          xtick_col='site'),\n",
    "                    draw_logo_kwargs=dict(letter_col='mutation',\n",
    "                                          letter_height_col='mutfracsurvive',\n",
    "                                          xtick_col='site_label',\n",
    "                                          xlabel='site'),\n",
    "                    line_titlesuffix='site-level selection',\n",
    "                    logo_titlesuffix='mutation-level selection'\n",
    "                    )"
   ]
  },
  {
   "cell_type": "markdown",
   "metadata": {},
   "source": [
    "There are various options to tweak the formatting of the faceted plot. Here we demonstrate a few of them:\n",
    "\n",
    "> * We assign a more generic ylabel (“immune selection”) to each plot via the appropriate `\\*_kwargs` option.\n",
    "\n",
    "> * We use the `share_ylim_across_rows=False` option to allow each row to have its own y-axis limits.\n",
    "\n",
    "> * We use the `share_xlabel` and `share_ylabel` options to share the x- and y-labels across the line and logo plots."
   ]
  },
  {
   "cell_type": "code",
   "execution_count": null,
   "metadata": {},
   "outputs": [],
   "source": [
    "fig, axes = dmslogo.facet_plot(\n",
    "                    data_hiv,\n",
    "                    gridrow_col='antibody',\n",
    "                    x_col='isite',\n",
    "                    show_col='show_site',\n",
    "                    draw_line_kwargs=dict(height_col='avgfracsurvive',\n",
    "                                          xtick_col='site',\n",
    "                                          ylabel='immune selection'),\n",
    "                    draw_logo_kwargs=dict(letter_col='mutation',\n",
    "                                          letter_height_col='mutfracsurvive',\n",
    "                                          xtick_col='site_label',\n",
    "                                          xlabel='site',\n",
    "                                          ylabel='immune selection'),\n",
    "                    line_titlesuffix='site-level selection',\n",
    "                    logo_titlesuffix='mutation-level selection',\n",
    "                    share_ylim_across_rows=False,\n",
    "                    share_xlabel=True,\n",
    "                    share_ylabel=True,\n",
    "                    )"
   ]
  },
  {
   "cell_type": "markdown",
   "metadata": {},
   "source": [
    "# Write *DMSLOGO* in Comic Sans font\n",
    "\n",
    "Generate data to plot by creating the pandas DataFrame `word_data`. In\n",
    "this data frame, we choose large heights and bright colors for the\n",
    "letters in our word (*DMSLOGO*), and smaller letters and gray for other\n",
    "letters."
   ]
  },
  {
   "cell_type": "code",
   "execution_count": null,
   "metadata": {},
   "outputs": [],
   "source": [
    "word = 'DMSLOGO'\n",
    "lettercolors = [CBPALETTE[1]] * len('dms') + [CBPALETTE[2]] * len('logo')\n",
    "\n",
    "# make data frame with data to plot\n",
    "random.seed(0)\n",
    "word_data = {'x':[], 'letter':[], 'height':[], 'color':[]}\n",
    "for x, (letter, color) in enumerate(zip(word, lettercolors)):\n",
    "    word_data['x'].append(x)\n",
    "    word_data['letter'].append(letter)\n",
    "    word_data['color'].append(color)\n",
    "    word_data['height'].append(random.uniform(1, 1.5))\n",
    "    for otherletter in random.sample(sorted(set('ACTG') - {letter}), 3):\n",
    "        word_data['x'].append(x)\n",
    "        word_data['letter'].append(otherletter)\n",
    "        word_data['color'].append(CBPALETTE[0])\n",
    "        word_data['height'].append(random.uniform(0.1, 0.5))\n",
    "word_data = pd.DataFrame(word_data)\n",
    "word_data.head(n=6)"
   ]
  },
  {
   "cell_type": "markdown",
   "metadata": {},
   "source": [
    "Now draw the logo. We use the `fontfamily` argument to set a Comic\n",
    "Sans font This also requires us to increase `fontaspect` since this\n",
    "font is wider, and increase `letterpad` as the font height sometimes\n",
    "sticks out beyond its baseline:"
   ]
  },
  {
   "cell_type": "code",
   "execution_count": null,
   "metadata": {},
   "outputs": [],
   "source": [
    "fig, ax = dmslogo.draw_logo(data=word_data,\n",
    "                            letter_height_col='height',\n",
    "                            x_col='x',\n",
    "                            letter_col='letter',\n",
    "                            color_col='color',\n",
    "                            fontfamily='Comic Sans MS',\n",
    "                            hide_axis=True,\n",
    "                            fontaspect=0.85,\n",
    "                            letterpad=0.05\n",
    "                            )"
   ]
  }
 ],
 "metadata": {
  "kernelspec": {
   "display_name": "Python 3",
   "language": "python",
   "name": "python3"
  },
  "language_info": {
   "codemirror_mode": {
    "name": "ipython",
    "version": 3
   },
   "file_extension": ".py",
   "mimetype": "text/x-python",
   "name": "python",
   "nbconvert_exporter": "python",
   "pygments_lexer": "ipython3",
   "version": "3.6.7"
  }
 },
 "nbformat": 4,
 "nbformat_minor": 2
}
