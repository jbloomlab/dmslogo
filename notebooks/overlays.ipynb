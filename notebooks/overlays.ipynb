{
 "cells": [
  {
   "cell_type": "markdown",
   "metadata": {},
   "source": [
    "# Plotting heatmap overlays\n",
    "\n",
    "Import `dmslogo` along with the other Python packages used in this example:"
   ]
  },
  {
   "cell_type": "code",
   "execution_count": 1,
   "metadata": {
    "execution": {
     "iopub.execute_input": "2021-01-02T23:42:30.837708Z",
     "iopub.status.busy": "2021-01-02T23:42:30.837476Z",
     "iopub.status.idle": "2021-01-02T23:42:32.418630Z",
     "shell.execute_reply": "2021-01-02T23:42:32.417337Z",
     "shell.execute_reply.started": "2021-01-02T23:42:30.837687Z"
    }
   },
   "outputs": [],
   "source": [
    "# NBVAL_IGNORE_OUTPUT\n",
    "\n",
    "import matplotlib.pyplot as plt\n",
    "\n",
    "import numpy\n",
    "\n",
    "import palettable\n",
    "\n",
    "import pandas as pd\n",
    "\n",
    "import dmslogo\n",
    "import dmslogo.colorschemes"
   ]
  },
  {
   "cell_type": "markdown",
   "metadata": {},
   "source": [
    "We will make an overlay with two properties shown at a site level.\n",
    "Make a simple data frame that gives these site values (note how the overlay values are the same for each letter at each site, since the are site level overlays):"
   ]
  },
  {
   "cell_type": "code",
   "execution_count": 2,
   "metadata": {
    "execution": {
     "iopub.execute_input": "2021-01-02T23:42:32.423032Z",
     "iopub.status.busy": "2021-01-02T23:42:32.422822Z",
     "iopub.status.idle": "2021-01-02T23:42:32.531359Z",
     "shell.execute_reply": "2021-01-02T23:42:32.530455Z",
     "shell.execute_reply.started": "2021-01-02T23:42:32.423011Z"
    }
   },
   "outputs": [
    {
     "data": {
      "text/html": [
       "<div>\n",
       "<style scoped>\n",
       "    .dataframe tbody tr th:only-of-type {\n",
       "        vertical-align: middle;\n",
       "    }\n",
       "\n",
       "    .dataframe tbody tr th {\n",
       "        vertical-align: top;\n",
       "    }\n",
       "\n",
       "    .dataframe thead th {\n",
       "        text-align: right;\n",
       "    }\n",
       "</style>\n",
       "<table border=\"1\" class=\"dataframe\">\n",
       "  <thead>\n",
       "    <tr style=\"text-align: right;\">\n",
       "      <th></th>\n",
       "      <th>site</th>\n",
       "      <th>letter</th>\n",
       "      <th>height</th>\n",
       "      <th>overlay_val_1</th>\n",
       "      <th>overlay_val_2</th>\n",
       "    </tr>\n",
       "  </thead>\n",
       "  <tbody>\n",
       "    <tr>\n",
       "      <th>0</th>\n",
       "      <td>1</td>\n",
       "      <td>A</td>\n",
       "      <td>1.0</td>\n",
       "      <td>1</td>\n",
       "      <td>0</td>\n",
       "    </tr>\n",
       "    <tr>\n",
       "      <th>1</th>\n",
       "      <td>1</td>\n",
       "      <td>C</td>\n",
       "      <td>0.7</td>\n",
       "      <td>1</td>\n",
       "      <td>0</td>\n",
       "    </tr>\n",
       "    <tr>\n",
       "      <th>2</th>\n",
       "      <td>2</td>\n",
       "      <td>C</td>\n",
       "      <td>0.1</td>\n",
       "      <td>3</td>\n",
       "      <td>2</td>\n",
       "    </tr>\n",
       "    <tr>\n",
       "      <th>3</th>\n",
       "      <td>2</td>\n",
       "      <td>D</td>\n",
       "      <td>1.2</td>\n",
       "      <td>3</td>\n",
       "      <td>2</td>\n",
       "    </tr>\n",
       "    <tr>\n",
       "      <th>4</th>\n",
       "      <td>5</td>\n",
       "      <td>A</td>\n",
       "      <td>0.4</td>\n",
       "      <td>2</td>\n",
       "      <td>4</td>\n",
       "    </tr>\n",
       "    <tr>\n",
       "      <th>5</th>\n",
       "      <td>5</td>\n",
       "      <td>K</td>\n",
       "      <td>0.4</td>\n",
       "      <td>2</td>\n",
       "      <td>4</td>\n",
       "    </tr>\n",
       "  </tbody>\n",
       "</table>\n",
       "</div>"
      ],
      "text/plain": [
       "   site letter  height  overlay_val_1  overlay_val_2\n",
       "0     1      A     1.0              1              0\n",
       "1     1      C     0.7              1              0\n",
       "2     2      C     0.1              3              2\n",
       "3     2      D     1.2              3              2\n",
       "4     5      A     0.4              2              4\n",
       "5     5      K     0.4              2              4"
      ]
     },
     "execution_count": 2,
     "metadata": {},
     "output_type": "execute_result"
    }
   ],
   "source": [
    "data = pd.DataFrame.from_records(\n",
    "        data=   [(    1,      'A',        1,              1,               0),\n",
    "                 (    1,      'C',      0.7,              1,               0),\n",
    "                 (    2,      'C',      0.1,              3,               2),\n",
    "                 (    2,      'D',      1.2,              3,               2),\n",
    "                 (    5,      'A',      0.4,              2,               4),\n",
    "                 (    5,      'K',      0.4,              2,               4)],\n",
    "        columns=['site', 'letter', 'height', 'overlay_val_1', 'overlay_val_2'])\n",
    "\n",
    "data"
   ]
  },
  {
   "cell_type": "markdown",
   "metadata": {},
   "source": [
    "First, we need to convert the numerical values in the data frame to colors.\n",
    "To do that, we create a [dmslogo.colorschemes.ValueToColorMap](https://jbloomlab.github.io/dmslogo/dmslogo.colorschemes.html#dmslogo.colorschemes.ValueToColorMap) for each overlay value.\n",
    "Note that you define your own `matplotlib.colors.Colormap`, or use the name of any pre-built [matplotlib colormap](https://matplotlib.org/tutorials/colors/colormaps.html) or any in the larger set provided by [palettable](https://jiffyclub.github.io/palettable/).\n",
    "\n",
    "Note how below we define each color map, use it create a column in `data` giving the color, and then also draw the scale bar.\n",
    "This last step is necessary if you want to be able to get a `matplotlib.Figure` that you can use to save the scale bar to show along with the logo plot:"
   ]
  },
  {
   "cell_type": "code",
   "execution_count": 3,
   "metadata": {
    "execution": {
     "iopub.execute_input": "2021-01-02T23:42:32.533879Z",
     "iopub.status.busy": "2021-01-02T23:42:32.533429Z",
     "iopub.status.idle": "2021-01-02T23:42:32.739305Z",
     "shell.execute_reply": "2021-01-02T23:42:32.738573Z",
     "shell.execute_reply.started": "2021-01-02T23:42:32.533834Z"
    }
   },
   "outputs": [
    {
     "name": "stdout",
     "output_type": "stream",
     "text": [
      "\n",
      "Here is scale bar for first overlay:\n"
     ]
    },
    {
     "data": {
      "image/png": "[encoded data removed]",
      "text/plain": [
       "<Figure size 252x28.8 with 1 Axes>"
      ]
     },
     "metadata": {},
     "output_type": "display_data"
    },
    {
     "name": "stdout",
     "output_type": "stream",
     "text": [
      "\n",
      "Here is scale bar for second overlay:\n"
     ]
    },
    {
     "data": {
      "image/png": "[encoded data removed]",
      "text/plain": [
       "<Figure size 252x28.8 with 1 Axes>"
      ]
     },
     "metadata": {},
     "output_type": "display_data"
    },
    {
     "data": {
      "text/html": [
       "<div>\n",
       "<style scoped>\n",
       "    .dataframe tbody tr th:only-of-type {\n",
       "        vertical-align: middle;\n",
       "    }\n",
       "\n",
       "    .dataframe tbody tr th {\n",
       "        vertical-align: top;\n",
       "    }\n",
       "\n",
       "    .dataframe thead th {\n",
       "        text-align: right;\n",
       "    }\n",
       "</style>\n",
       "<table border=\"1\" class=\"dataframe\">\n",
       "  <thead>\n",
       "    <tr style=\"text-align: right;\">\n",
       "      <th></th>\n",
       "      <th>site</th>\n",
       "      <th>letter</th>\n",
       "      <th>height</th>\n",
       "      <th>overlay_val_1</th>\n",
       "      <th>overlay_val_2</th>\n",
       "      <th>overlay 1</th>\n",
       "      <th>overlay 2</th>\n",
       "    </tr>\n",
       "  </thead>\n",
       "  <tbody>\n",
       "    <tr>\n",
       "      <th>0</th>\n",
       "      <td>1</td>\n",
       "      <td>A</td>\n",
       "      <td>1.0</td>\n",
       "      <td>1</td>\n",
       "      <td>0</td>\n",
       "      <td>#440154</td>\n",
       "      <td>#e6f1f1</td>\n",
       "    </tr>\n",
       "    <tr>\n",
       "      <th>1</th>\n",
       "      <td>1</td>\n",
       "      <td>C</td>\n",
       "      <td>0.7</td>\n",
       "      <td>1</td>\n",
       "      <td>0</td>\n",
       "      <td>#440154</td>\n",
       "      <td>#e6f1f1</td>\n",
       "    </tr>\n",
       "    <tr>\n",
       "      <th>2</th>\n",
       "      <td>2</td>\n",
       "      <td>C</td>\n",
       "      <td>0.1</td>\n",
       "      <td>3</td>\n",
       "      <td>2</td>\n",
       "      <td>#fde724</td>\n",
       "      <td>#7770d4</td>\n",
       "    </tr>\n",
       "    <tr>\n",
       "      <th>3</th>\n",
       "      <td>2</td>\n",
       "      <td>D</td>\n",
       "      <td>1.2</td>\n",
       "      <td>3</td>\n",
       "      <td>2</td>\n",
       "      <td>#fde724</td>\n",
       "      <td>#7770d4</td>\n",
       "    </tr>\n",
       "    <tr>\n",
       "      <th>4</th>\n",
       "      <td>5</td>\n",
       "      <td>A</td>\n",
       "      <td>0.4</td>\n",
       "      <td>2</td>\n",
       "      <td>4</td>\n",
       "      <td>#20908c</td>\n",
       "      <td>#360e24</td>\n",
       "    </tr>\n",
       "    <tr>\n",
       "      <th>5</th>\n",
       "      <td>5</td>\n",
       "      <td>K</td>\n",
       "      <td>0.4</td>\n",
       "      <td>2</td>\n",
       "      <td>4</td>\n",
       "      <td>#20908c</td>\n",
       "      <td>#360e24</td>\n",
       "    </tr>\n",
       "  </tbody>\n",
       "</table>\n",
       "</div>"
      ],
      "text/plain": [
       "   site letter  height  overlay_val_1  overlay_val_2 overlay 1 overlay 2\n",
       "0     1      A     1.0              1              0   #440154   #e6f1f1\n",
       "1     1      C     0.7              1              0   #440154   #e6f1f1\n",
       "2     2      C     0.1              3              2   #fde724   #7770d4\n",
       "3     2      D     1.2              3              2   #fde724   #7770d4\n",
       "4     5      A     0.4              2              4   #20908c   #360e24\n",
       "5     5      K     0.4              2              4   #20908c   #360e24"
      ]
     },
     "execution_count": 3,
     "metadata": {},
     "output_type": "execute_result"
    }
   ],
   "source": [
    "print(f\"\\nHere is scale bar for first overlay:\")\n",
    "map1 = dmslogo.colorschemes.ValueToColorMap(minvalue=data['overlay_val_1'].min(),\n",
    "                                            maxvalue=data['overlay_val_1'].max(),\n",
    "                                            cmap='viridis')\n",
    "map1_fig, _ = map1.scale_bar(orientation='horizontal',\n",
    "                             label='overlay 1')\n",
    "display(map1_fig)\n",
    "plt.close(map1_fig)\n",
    "data['overlay 1'] = map1.val_to_color(data['overlay_val_1'])\n",
    "\n",
    "print(f\"\\nHere is scale bar for second overlay:\")\n",
    "map2 = dmslogo.colorschemes.ValueToColorMap(minvalue=data['overlay_val_2'].min(),\n",
    "                                            maxvalue=data['overlay_val_2'].max(),\n",
    "                                            cmap=palettable.cmocean.sequential.Dense_20.mpl_colormap)\n",
    "map2_fig, _ = map2.scale_bar(orientation='horizontal',\n",
    "                             label='overlay 2')\n",
    "display(map2_fig)\n",
    "plt.close(map2_fig)\n",
    "data['overlay 2'] = map2.val_to_color(data['overlay_val_2'])\n",
    "\n",
    "data"
   ]
  },
  {
   "cell_type": "markdown",
   "metadata": {},
   "source": [
    "Now first use [dmslogo.logo.draw_logo](https://jbloomlab.github.io/dmslogo/dmslogo.logo.html#dmslogo.logo.draw_logo) to draw the logo plot without any overlays:"
   ]
  },
  {
   "cell_type": "code",
   "execution_count": 4,
   "metadata": {
    "execution": {
     "iopub.execute_input": "2021-01-02T23:42:32.740508Z",
     "iopub.status.busy": "2021-01-02T23:42:32.740289Z",
     "iopub.status.idle": "2021-01-02T23:42:32.974154Z",
     "shell.execute_reply": "2021-01-02T23:42:32.973489Z",
     "shell.execute_reply.started": "2021-01-02T23:42:32.740485Z"
    }
   },
   "outputs": [
    {
     "data": {
      "image/png": "[encoded data removed]",
      "text/plain": [
       "<Figure size 126x216 with 1 Axes>"
      ]
     },
     "metadata": {
      "needs_background": "light"
     },
     "output_type": "display_data"
    }
   ],
   "source": [
    "fig, ax = dmslogo.draw_logo(data=data,\n",
    "                            x_col='site',\n",
    "                            letter_col='letter',\n",
    "                            letter_height_col='height',\n",
    "                            title='no overlay')"
   ]
  },
  {
   "cell_type": "markdown",
   "metadata": {},
   "source": [
    "Now use [dmslogo.logo.draw_logo](https://jbloomlab.github.io/dmslogo/dmslogo.logo.html#dmslogo.logo.draw_logo) to draw the logo plot with the first overlay:"
   ]
  },
  {
   "cell_type": "code",
   "execution_count": 5,
   "metadata": {
    "execution": {
     "iopub.execute_input": "2021-01-02T23:42:32.975259Z",
     "iopub.status.busy": "2021-01-02T23:42:32.975010Z",
     "iopub.status.idle": "2021-01-02T23:42:33.106304Z",
     "shell.execute_reply": "2021-01-02T23:42:33.105421Z",
     "shell.execute_reply.started": "2021-01-02T23:42:32.975237Z"
    }
   },
   "outputs": [
    {
     "ename": "TypeError",
     "evalue": "draw_logo() got an unexpected keyword argument 'heatmap_overlays'",
     "output_type": "error",
     "traceback": [
      "\u001b[0;31m---------------------------------------------------------------------------\u001b[0m",
      "\u001b[0;31mTypeError\u001b[0m                                 Traceback (most recent call last)",
      "\u001b[0;32m<ipython-input-5-242303bc4eee>\u001b[0m in \u001b[0;36m<module>\u001b[0;34m\u001b[0m\n\u001b[0;32m----> 1\u001b[0;31m fig, ax = dmslogo.draw_logo(data=data,\n\u001b[0m\u001b[1;32m      2\u001b[0m                             \u001b[0mx_col\u001b[0m\u001b[0;34m=\u001b[0m\u001b[0;34m'site'\u001b[0m\u001b[0;34m,\u001b[0m\u001b[0;34m\u001b[0m\u001b[0;34m\u001b[0m\u001b[0m\n\u001b[1;32m      3\u001b[0m                             \u001b[0mletter_col\u001b[0m\u001b[0;34m=\u001b[0m\u001b[0;34m'letter'\u001b[0m\u001b[0;34m,\u001b[0m\u001b[0;34m\u001b[0m\u001b[0;34m\u001b[0m\u001b[0m\n\u001b[1;32m      4\u001b[0m                             \u001b[0mletter_height_col\u001b[0m\u001b[0;34m=\u001b[0m\u001b[0;34m'height'\u001b[0m\u001b[0;34m,\u001b[0m\u001b[0;34m\u001b[0m\u001b[0;34m\u001b[0m\u001b[0m\n\u001b[1;32m      5\u001b[0m                             \u001b[0mtitle\u001b[0m\u001b[0;34m=\u001b[0m\u001b[0;34m'one overlay'\u001b[0m\u001b[0;34m,\u001b[0m\u001b[0;34m\u001b[0m\u001b[0;34m\u001b[0m\u001b[0m\n",
      "\u001b[0;31mTypeError\u001b[0m: draw_logo() got an unexpected keyword argument 'heatmap_overlays'"
     ]
    }
   ],
   "source": [
    "fig, ax = dmslogo.draw_logo(data=data,\n",
    "                            x_col='site',\n",
    "                            letter_col='letter',\n",
    "                            letter_height_col='height',\n",
    "                            title='one overlay',\n",
    "                            heatmap_overlays=['overlay 1'])"
   ]
  },
  {
   "cell_type": "markdown",
   "metadata": {},
   "source": [
    "Draw with both overlays:"
   ]
  },
  {
   "cell_type": "code",
   "execution_count": null,
   "metadata": {
    "execution": {
     "iopub.status.busy": "2021-01-02T23:42:33.106943Z",
     "iopub.status.idle": "2021-01-02T23:42:33.107290Z"
    }
   },
   "outputs": [],
   "source": [
    "fig, ax = dmslogo.draw_logo(data=data,\n",
    "                            x_col='site',\n",
    "                            letter_col='letter',\n",
    "                            letter_height_col='height',\n",
    "                            title='two overlays',\n",
    "                            heatmap_overlays=['overlay 1', 'overlay 2'])"
   ]
  }
 ],
 "metadata": {
  "kernelspec": {
   "display_name": "Python 3",
   "language": "python",
   "name": "python3"
  },
  "language_info": {
   "codemirror_mode": {
    "name": "ipython",
    "version": 3
   },
   "file_extension": ".py",
   "mimetype": "text/x-python",
   "name": "python",
   "nbconvert_exporter": "python",
   "pygments_lexer": "ipython3",
   "version": "3.8.5"
  },
  "toc": {
   "nav_menu": {},
   "number_sections": false,
   "sideBar": true,
   "skip_h1_title": false,
   "toc_cell": false,
   "toc_position": {},
   "toc_section_display": "block",
   "toc_window_display": true
  }
 },
 "nbformat": 4,
 "nbformat_minor": 4
}
